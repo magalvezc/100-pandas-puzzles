{
  "nbformat": 4,
  "nbformat_minor": 0,
  "metadata": {
    "colab": {
      "name": "Dia2Afternoon.ipynb",
      "version": "0.3.2",
      "provenance": [],
      "include_colab_link": true
    },
    "kernelspec": {
      "name": "python3",
      "display_name": "Python 3"
    }
  },
  "cells": [
    {
      "cell_type": "markdown",
      "metadata": {
        "id": "view-in-github",
        "colab_type": "text"
      },
      "source": [
        "<a href=\"https://colab.research.google.com/github/magalvezc/100-pandas-puzzles/blob/master/Dia2Afternoon.ipynb\" target=\"_parent\"><img src=\"https://colab.research.google.com/assets/colab-badge.svg\" alt=\"Open In Colab\"/></a>"
      ]
    },
    {
      "cell_type": "markdown",
      "metadata": {
        "id": "ISmobnolx59A",
        "colab_type": "text"
      },
      "source": [
        "# Análisis de series de tiempo\n",
        "### Introducción\n",
        "Hasta ahora hemos estudiado datos que son estáticos en el tiempo. Esto fue importante ya que muchos modelos requieren que supongamos que las observaciones son independientes entre sí. Sin embargo, cuando se trata con datos ordenados por tiempo, muchas veces esta suposición ya no es válida. Por ejemplo, la temperatura observada hoy no es independiente de la temperatura de ayer. Otro ejemplo es el mercado de valores. Los precios de las acciones de hoy están relacionados con los precios de las acciones de ayer. En esta lección exploraremos cómo manejar los datos que contienen tales relaciones\n",
        "\n",
        "### Descomposición de series de tiempo\n",
        "Una de las formas de superar los problemas causados por tener una relación entre las observaciones es descomponer los datos en componentes. Por lo general, dividimos los datos en dos tipos de componentes: sistemáticos y no sistemáticos.\n",
        "\n",
        "* Los componentes sistemáticos son componentes que pueden tener consistencia o recurrencia.\n",
        "* Los componentes no sistemáticos no se pueden modelar.\n",
        "Por lo general, podemos descomponer una serie temporal en 4 componentes: 3 componentes sistemáticos y un componente de ruido.:\n",
        "\n",
        "* La media de la serie.\n",
        "* La estacionalidad o patrón cíclico de la serie.\n",
        "* La tendencia de la serie: este componente es lo que nos gustaría modelar\n",
        "* El ruido es típicamente la variación aleatoria en nuestros datos.\n",
        "\n",
        "### Descomposición de series de tiempo en Python\n",
        "Nos centraremos en la biblioteca de modelos de estadísticas para modelar y trazar datos de series de tiempo en Python. statsmodels contiene una función llamada seasonal_decompose que nos permitirá trazar los datos descompuestos de las series temporales."
      ]
    },
    {
      "cell_type": "code",
      "metadata": {
        "id": "k2Tnr7osygYA",
        "colab_type": "code",
        "colab": {}
      },
      "source": [
        "import pandas as pd"
      ],
      "execution_count": 0,
      "outputs": []
    },
    {
      "cell_type": "code",
      "metadata": {
        "id": "LlhaCohhx1e5",
        "colab_type": "code",
        "outputId": "f2c2fbef-c341-4fd8-9881-0ea47f5501bd",
        "colab": {
          "base_uri": "https://localhost:8080/",
          "height": 279
        }
      },
      "source": [
        "occupancy = pd.read_csv('https://s3-eu-west-1.amazonaws.com/ih-materials/uploads/data-static/data/module-2/occupancy.csv')\n",
        "occupancy.head()\n"
      ],
      "execution_count": 0,
      "outputs": [
        {
          "output_type": "execute_result",
          "data": {
            "text/html": [
              "<div>\n",
              "<style scoped>\n",
              "    .dataframe tbody tr th:only-of-type {\n",
              "        vertical-align: middle;\n",
              "    }\n",
              "\n",
              "    .dataframe tbody tr th {\n",
              "        vertical-align: top;\n",
              "    }\n",
              "\n",
              "    .dataframe thead th {\n",
              "        text-align: right;\n",
              "    }\n",
              "</style>\n",
              "<table border=\"1\" class=\"dataframe\">\n",
              "  <thead>\n",
              "    <tr style=\"text-align: right;\">\n",
              "      <th></th>\n",
              "      <th>date</th>\n",
              "      <th>Temperature</th>\n",
              "      <th>Humidity</th>\n",
              "      <th>Light</th>\n",
              "      <th>CO2</th>\n",
              "      <th>HumidityRatio</th>\n",
              "      <th>Occupancy</th>\n",
              "    </tr>\n",
              "  </thead>\n",
              "  <tbody>\n",
              "    <tr>\n",
              "      <th>0</th>\n",
              "      <td>2/2/2015 14:00</td>\n",
              "      <td>23.7000</td>\n",
              "      <td>26.272</td>\n",
              "      <td>585.200000</td>\n",
              "      <td>749.200000</td>\n",
              "      <td>0.004764</td>\n",
              "      <td>1</td>\n",
              "    </tr>\n",
              "    <tr>\n",
              "      <th>1</th>\n",
              "      <td>2/2/2015 15:00</td>\n",
              "      <td>23.7180</td>\n",
              "      <td>26.290</td>\n",
              "      <td>578.400000</td>\n",
              "      <td>760.400000</td>\n",
              "      <td>0.004773</td>\n",
              "      <td>1</td>\n",
              "    </tr>\n",
              "    <tr>\n",
              "      <th>2</th>\n",
              "      <td>2/2/2015 16:00</td>\n",
              "      <td>23.7300</td>\n",
              "      <td>26.230</td>\n",
              "      <td>572.666667</td>\n",
              "      <td>769.666667</td>\n",
              "      <td>0.004765</td>\n",
              "      <td>1</td>\n",
              "    </tr>\n",
              "    <tr>\n",
              "      <th>3</th>\n",
              "      <td>2/2/2015 17:00</td>\n",
              "      <td>23.7225</td>\n",
              "      <td>26.125</td>\n",
              "      <td>493.750000</td>\n",
              "      <td>774.750000</td>\n",
              "      <td>0.004744</td>\n",
              "      <td>1</td>\n",
              "    </tr>\n",
              "    <tr>\n",
              "      <th>4</th>\n",
              "      <td>2/2/2015 18:00</td>\n",
              "      <td>23.7540</td>\n",
              "      <td>26.200</td>\n",
              "      <td>488.600000</td>\n",
              "      <td>779.000000</td>\n",
              "      <td>0.004767</td>\n",
              "      <td>1</td>\n",
              "    </tr>\n",
              "  </tbody>\n",
              "</table>\n",
              "</div>"
            ],
            "text/plain": [
              "             date  Temperature  Humidity  ...         CO2  HumidityRatio  Occupancy\n",
              "0  2/2/2015 14:00      23.7000    26.272  ...  749.200000       0.004764          1\n",
              "1  2/2/2015 15:00      23.7180    26.290  ...  760.400000       0.004773          1\n",
              "2  2/2/2015 16:00      23.7300    26.230  ...  769.666667       0.004765          1\n",
              "3  2/2/2015 17:00      23.7225    26.125  ...  774.750000       0.004744          1\n",
              "4  2/2/2015 18:00      23.7540    26.200  ...  779.000000       0.004767          1\n",
              "\n",
              "[5 rows x 7 columns]"
            ]
          },
          "metadata": {
            "tags": []
          },
          "execution_count": 15
        }
      ]
    },
    {
      "cell_type": "markdown",
      "metadata": {
        "id": "f0dIQegsys-5",
        "colab_type": "text"
      },
      "source": [
        "Para trazar estos datos, debemos asegurarnos de que nuestro índice sea una serie temporal con una frecuencia conocida. Para analizar datos de series de tiempo, los datos deben estar igualmente espaciados. En el siguiente código, cambiaremos el tipo de la columna de fecha a fecha y hora y cambiaremos el índice a la columna de fecha. Nuestra frecuencia es de 1 hora. Aunque podemos ver que la diferencia entre la observación es de 1 hora, no se infiere, y debemos especificarla nosotros mismos."
      ]
    },
    {
      "cell_type": "code",
      "metadata": {
        "id": "au6IUWm6yeQk",
        "colab_type": "code",
        "outputId": "09a557cd-ca17-4e8c-98d4-77fa4ecfd925",
        "colab": {
          "base_uri": "https://localhost:8080/",
          "height": 218
        }
      },
      "source": [
        "occupancy.date = pd.to_datetime(occupancy.date)\n",
        "occupancy.index = pd.DatetimeIndex(occupancy.date, freq='H')\n",
        "occupancy.index"
      ],
      "execution_count": 0,
      "outputs": [
        {
          "output_type": "execute_result",
          "data": {
            "text/plain": [
              "DatetimeIndex(['2015-02-02 14:00:00', '2015-02-02 15:00:00',\n",
              "               '2015-02-02 16:00:00', '2015-02-02 17:00:00',\n",
              "               '2015-02-02 18:00:00', '2015-02-02 19:00:00',\n",
              "               '2015-02-02 20:00:00', '2015-02-02 21:00:00',\n",
              "               '2015-02-02 22:00:00', '2015-02-02 23:00:00',\n",
              "               ...\n",
              "               '2015-05-24 04:00:00', '2015-05-24 05:00:00',\n",
              "               '2015-05-24 06:00:00', '2015-05-24 07:00:00',\n",
              "               '2015-05-24 08:00:00', '2015-05-24 09:00:00',\n",
              "               '2015-05-24 10:00:00', '2015-05-24 11:00:00',\n",
              "               '2015-05-24 12:00:00', '2015-05-24 13:00:00'],\n",
              "              dtype='datetime64[ns]', name='date', length=2664, freq='H')"
            ]
          },
          "metadata": {
            "tags": []
          },
          "execution_count": 3
        }
      ]
    },
    {
      "cell_type": "markdown",
      "metadata": {
        "id": "Xx7Eh8z2y4b8",
        "colab_type": "text"
      },
      "source": [
        "Ahora podemos trazar la serie temporal descompuesta."
      ]
    },
    {
      "cell_type": "code",
      "metadata": {
        "id": "skXul-WsyqXg",
        "colab_type": "code",
        "outputId": "fd4e1d77-e0e8-4aac-f904-e79d7ebaf131",
        "colab": {
          "base_uri": "https://localhost:8080/",
          "height": 297
        }
      },
      "source": [
        "import statsmodels.api as sm\n",
        "\n",
        "res = sm.tsa.seasonal_decompose(occupancy.CO2)\n",
        "resplot = res.plot()"
      ],
      "execution_count": 0,
      "outputs": [
        {
          "output_type": "display_data",
          "data": {
            "image/png": "[encoded data removed]",
            "text/plain": [
              "<Figure size 432x288 with 4 Axes>"
            ]
          },
          "metadata": {
            "tags": []
          }
        }
      ]
    },
    {
      "cell_type": "markdown",
      "metadata": {
        "id": "mMEP44dIze4z",
        "colab_type": "text"
      },
      "source": [
        "### Autorregresión\n",
        "Un modelo autorregresivo es un modelo que utiliza observaciones previas en la serie de tiempo para predecir el siguiente valor en el modelo. En lecciones anteriores, hemos analizado modelos lineales donde la variable de respuesta depende solo de las variables predictoras y la ecuación de regresión lineal\n",
        "\n",
        "Sin embargo, cuando se trabaja con datos de series de tiempo, nuestra variable de respuesta depende no solo de las variables predictoras sino también de la variable de respuesta misma. Una variable que depende de sí misma se llama variable autocorrelacionada. Típicamente, nuestra ecuación de regresión será de la siguiente forma. La siguiente ecuación es un modelo autorregresivo que depende solo del período de tiempo anterior.\n",
        "\n",
        "Nuestro modelo también puede depender de más de un período de tiempo en el pasado.\n",
        "\n",
        "### Comprobación de autocorrelación\n",
        "Podemos verificar la autocorrelación en nuestros datos utilizando un gráfico de retraso. Este gráfico representará y t contra y t-1. Pandas tiene una función llamada lag_plot para detectar estas relaciones."
      ]
    },
    {
      "cell_type": "code",
      "metadata": {
        "id": "RwPRhXvoy79j",
        "colab_type": "code",
        "outputId": "50592c64-ffbe-4b30-f9cf-01a41c742d1d",
        "colab": {
          "base_uri": "https://localhost:8080/",
          "height": 300
        }
      },
      "source": [
        "from pandas.plotting import lag_plot\n",
        "lag_plot(occupancy.CO2)"
      ],
      "execution_count": 0,
      "outputs": [
        {
          "output_type": "execute_result",
          "data": {
            "text/plain": [
              "<matplotlib.axes._subplots.AxesSubplot at 0x7f1d101b77f0>"
            ]
          },
          "metadata": {
            "tags": []
          },
          "execution_count": 5
        },
        {
          "output_type": "display_data",
          "data": {
            "image/png": "[encoded data removed]",
            "text/plain": [
              "<Figure size 432x288 with 1 Axes>"
            ]
          },
          "metadata": {
            "tags": []
          }
        }
      ]
    },
    {
      "cell_type": "markdown",
      "metadata": {
        "id": "DFVFtyEUz8vL",
        "colab_type": "text"
      },
      "source": [
        "Una línea a lo largo de la diagonal muestra que hay una relación autorregresiva.\n",
        "\n",
        "Para crear un modelo autorregresivo usamos la función AR. Normalmente, observamos un modelo autorregresivo con la notación AR (n) donde n es el número de períodos de retraso. En el siguiente ejemplo, crearemos un modelo autorregresivo con retraso 1 para modelar la tasa de CO2. En el siguiente ejemplo, limitamos los períodos de retraso a 1. Sin embargo, si no establecemos un límite, el modelo puede contener más períodos de retraso.\n",
        "\n",
        "Tenga en cuenta que dividimos los datos en prueba y entrenamiento y siempre usamos las últimas observaciones al trabajar con datos de series temporales. Hacemos esto para asegurarnos de que el modelo ofrezca buenas predicciones incluso sobre datos que no ha visto. Como los datos están ordenados, no podemos seleccionar los datos de la prueba al azar."
      ]
    },
    {
      "cell_type": "code",
      "metadata": {
        "id": "jdlbbcbyzmB3",
        "colab_type": "code",
        "colab": {}
      },
      "source": [
        "from statsmodels.tsa.ar_model import AR\n",
        "\n",
        "train, test = occupancy.CO2[:-10], occupancy.CO2[-10:]\n",
        "model = AR(occupancy.CO2)\n",
        "model_fit = model.fit(maxlag=1)\n",
        "predictions = model_fit.predict(start=len(train), end=len(train)+len(test)-1, dynamic=False)"
      ],
      "execution_count": 0,
      "outputs": []
    },
    {
      "cell_type": "markdown",
      "metadata": {
        "id": "7RLYb_cr0CZQ",
        "colab_type": "text"
      },
      "source": [
        "Al igual que la regresión lineal, este modelo produce coeficientes para el modelo autorregresivo, así como predicciones."
      ]
    },
    {
      "cell_type": "code",
      "metadata": {
        "id": "SL5Sfufm0EuB",
        "colab_type": "code",
        "outputId": "6bc94628-fd08-42d4-bc66-0e06c85a18f8",
        "colab": {
          "base_uri": "https://localhost:8080/",
          "height": 67
        }
      },
      "source": [
        "print(model_fit.params)"
      ],
      "execution_count": 0,
      "outputs": [
        {
          "output_type": "stream",
          "text": [
            "const     0.001078\n",
            "L1.CO2    1.000195\n",
            "dtype: float64\n"
          ],
          "name": "stdout"
        }
      ]
    },
    {
      "cell_type": "code",
      "metadata": {
        "id": "bnAqdI39z__s",
        "colab_type": "code",
        "outputId": "c3de728d-e2e3-48b4-e10d-8213c7800bde",
        "colab": {
          "base_uri": "https://localhost:8080/",
          "height": 373
        }
      },
      "source": [
        "pd.DataFrame({'observed':test, 'predicted':predictions})"
      ],
      "execution_count": 0,
      "outputs": [
        {
          "output_type": "execute_result",
          "data": {
            "text/html": [
              "<div>\n",
              "<style scoped>\n",
              "    .dataframe tbody tr th:only-of-type {\n",
              "        vertical-align: middle;\n",
              "    }\n",
              "\n",
              "    .dataframe tbody tr th {\n",
              "        vertical-align: top;\n",
              "    }\n",
              "\n",
              "    .dataframe thead th {\n",
              "        text-align: right;\n",
              "    }\n",
              "</style>\n",
              "<table border=\"1\" class=\"dataframe\">\n",
              "  <thead>\n",
              "    <tr style=\"text-align: right;\">\n",
              "      <th></th>\n",
              "      <th>observed</th>\n",
              "      <th>predicted</th>\n",
              "    </tr>\n",
              "    <tr>\n",
              "      <th>date</th>\n",
              "      <th></th>\n",
              "      <th></th>\n",
              "    </tr>\n",
              "  </thead>\n",
              "  <tbody>\n",
              "    <tr>\n",
              "      <th>2015-05-24 04:00:00</th>\n",
              "      <td>1153.250000</td>\n",
              "      <td>1152.725379</td>\n",
              "    </tr>\n",
              "    <tr>\n",
              "      <th>2015-05-24 05:00:00</th>\n",
              "      <td>1152.400000</td>\n",
              "      <td>1153.475525</td>\n",
              "    </tr>\n",
              "    <tr>\n",
              "      <th>2015-05-24 06:00:00</th>\n",
              "      <td>1146.166667</td>\n",
              "      <td>1152.625359</td>\n",
              "    </tr>\n",
              "    <tr>\n",
              "      <th>2015-05-24 07:00:00</th>\n",
              "      <td>1145.400000</td>\n",
              "      <td>1146.390813</td>\n",
              "    </tr>\n",
              "    <tr>\n",
              "      <th>2015-05-24 08:00:00</th>\n",
              "      <td>1140.800000</td>\n",
              "      <td>1145.623997</td>\n",
              "    </tr>\n",
              "    <tr>\n",
              "      <th>2015-05-24 09:00:00</th>\n",
              "      <td>1150.250000</td>\n",
              "      <td>1141.023102</td>\n",
              "    </tr>\n",
              "    <tr>\n",
              "      <th>2015-05-24 10:00:00</th>\n",
              "      <td>1129.200000</td>\n",
              "      <td>1150.474941</td>\n",
              "    </tr>\n",
              "    <tr>\n",
              "      <th>2015-05-24 11:00:00</th>\n",
              "      <td>1125.800000</td>\n",
              "      <td>1129.420844</td>\n",
              "    </tr>\n",
              "    <tr>\n",
              "      <th>2015-05-24 12:00:00</th>\n",
              "      <td>1123.000000</td>\n",
              "      <td>1126.020182</td>\n",
              "    </tr>\n",
              "    <tr>\n",
              "      <th>2015-05-24 13:00:00</th>\n",
              "      <td>1124.000000</td>\n",
              "      <td>1123.219637</td>\n",
              "    </tr>\n",
              "  </tbody>\n",
              "</table>\n",
              "</div>"
            ],
            "text/plain": [
              "                        observed    predicted\n",
              "date                                         \n",
              "2015-05-24 04:00:00  1153.250000  1152.725379\n",
              "2015-05-24 05:00:00  1152.400000  1153.475525\n",
              "2015-05-24 06:00:00  1146.166667  1152.625359\n",
              "2015-05-24 07:00:00  1145.400000  1146.390813\n",
              "2015-05-24 08:00:00  1140.800000  1145.623997\n",
              "2015-05-24 09:00:00  1150.250000  1141.023102\n",
              "2015-05-24 10:00:00  1129.200000  1150.474941\n",
              "2015-05-24 11:00:00  1125.800000  1129.420844\n",
              "2015-05-24 12:00:00  1123.000000  1126.020182\n",
              "2015-05-24 13:00:00  1124.000000  1123.219637"
            ]
          },
          "metadata": {
            "tags": []
          },
          "execution_count": 8
        }
      ]
    },
    {
      "cell_type": "markdown",
      "metadata": {
        "id": "LTRxNBi50xrA",
        "colab_type": "text"
      },
      "source": [
        "### Estacionariedad\n",
        "Una serie temporal se considera estacionaria si su media y varianza no varían con el tiempo. Si bien no podemos considerar que una serie temporal estacionaria sea independiente, la estacionariedad es una estructura de dependencia que puede ayudarnos con una serie de técnicas de modelado. Para verificar si tenemos una serie de tiempo estacionaria, podemos examinar visualmente el gráfico de descomposición, calcular la media y la desviación estándar a lo largo del tiempo, o usar pruebas estadísticas. Una posible prueba es la prueba de Dickey-Fuller aumentada. Esta prueba tiene la siguiente hipótesis:\n",
        "\n",
        "H 0: los datos no son estacionarios\n",
        "\n",
        "H 1: los datos son estacionarios\n",
        "\n",
        "Probamos la estacionariedad utilizando la función adrfuller en statsmodels. El siguiente ejemplo demuestra esto con nuestros datos de CO2. La función adrfuller devuelve múltiples valores. La segunda posición en la estructura de datos devuelta es el valor p de nuestra hipótesis."
      ]
    },
    {
      "cell_type": "code",
      "metadata": {
        "id": "nWGGG1Uk0jx2",
        "colab_type": "code",
        "outputId": "5094937d-319a-4468-9b22-96bdb2bab646",
        "colab": {
          "base_uri": "https://localhost:8080/",
          "height": 34
        }
      },
      "source": [
        "from statsmodels.tsa.stattools import adfuller\n",
        "\n",
        "adfuller(occupancy.CO2)[1]"
      ],
      "execution_count": 0,
      "outputs": [
        {
          "output_type": "execute_result",
          "data": {
            "text/plain": [
              "0.0682262448324105"
            ]
          },
          "metadata": {
            "tags": []
          },
          "execution_count": 9
        }
      ]
    },
    {
      "cell_type": "markdown",
      "metadata": {
        "id": "mzm2T8tJ1C05",
        "colab_type": "text"
      },
      "source": [
        "### Paseos al azar\n",
        "Una caminata aleatoria es un tipo de modelo de serie temporal en el que cada observación depende de la suma de la observación anterior y un componente de ruido aleatorio. \n",
        "\n",
        "Las caminatas aleatorias se consideran no estacionarias porque la covarianza entre las observaciones depende del tiempo.\n",
        "\n",
        "### Media móvil\n",
        "Los modelos de promedio móvil son similares a los modelos autorregresivos. Los modelos de promedio móvil también dependen de una combinación lineal de datos pasados. Sin embargo, a diferencia de los modelos autorregresivos, estos modelos dependen de los términos del ruido blanco del pasado. Si bien el nombre es el mismo, los modelos de promedio móvil no son lo mismo que calcular el promedio móvil de una serie de tiempo.\n",
        "\n",
        "Los modelos de promedio móvil generalmente se observan con MA (q) donde q es el número de términos de ruido blanco pasados sumados por el modelo. \n",
        "\n",
        "Tenga en cuenta que los errores se distribuyen normalmente con media 0 y varianza σ ω.\n",
        "\n",
        "Podemos crear un modelo de promedio móvil usando la función ARMA en el paquete statsmodels. Esta función genera modelos que pueden tener tanto un componente autorregresivo como un componente de promedio móvil. Sin embargo, aquí estableceremos el retraso autorregresivo en cero para crear solo un modelo de promedio móvil. Usemos nuevamente nuestros datos de CO2 para este ejemplo."
      ]
    },
    {
      "cell_type": "code",
      "metadata": {
        "id": "wINcxxrJ08qj",
        "colab_type": "code",
        "colab": {}
      },
      "source": [
        "from statsmodels.tsa.arima_model import ARMA\n",
        "\n",
        "model = ARMA(occupancy.CO2, order=(0, 1))\n",
        "model_fit = model.fit(disp=False)\n",
        "predictions = model_fit.predict(len(occupancy.CO2)-3, len(occupancy.CO2)-1)"
      ],
      "execution_count": 0,
      "outputs": []
    },
    {
      "cell_type": "markdown",
      "metadata": {
        "id": "T22DNHIg1ob0",
        "colab_type": "text"
      },
      "source": [
        "Veamos las predicciones:"
      ]
    },
    {
      "cell_type": "code",
      "metadata": {
        "id": "YEM9r-wi1lef",
        "colab_type": "code",
        "outputId": "825e82c7-32b0-4425-c110-22cfe1a98fd2",
        "colab": {
          "base_uri": "https://localhost:8080/",
          "height": 166
        }
      },
      "source": [
        "pd.DataFrame({'observed':occupancy.CO2[-3:], 'predicted':predictions})"
      ],
      "execution_count": 0,
      "outputs": [
        {
          "output_type": "execute_result",
          "data": {
            "text/html": [
              "<div>\n",
              "<style scoped>\n",
              "    .dataframe tbody tr th:only-of-type {\n",
              "        vertical-align: middle;\n",
              "    }\n",
              "\n",
              "    .dataframe tbody tr th {\n",
              "        vertical-align: top;\n",
              "    }\n",
              "\n",
              "    .dataframe thead th {\n",
              "        text-align: right;\n",
              "    }\n",
              "</style>\n",
              "<table border=\"1\" class=\"dataframe\">\n",
              "  <thead>\n",
              "    <tr style=\"text-align: right;\">\n",
              "      <th></th>\n",
              "      <th>observed</th>\n",
              "      <th>predicted</th>\n",
              "    </tr>\n",
              "    <tr>\n",
              "      <th>date</th>\n",
              "      <th></th>\n",
              "      <th></th>\n",
              "    </tr>\n",
              "  </thead>\n",
              "  <tbody>\n",
              "    <tr>\n",
              "      <th>2015-05-24 11:00:00</th>\n",
              "      <td>1125.8</td>\n",
              "      <td>926.765185</td>\n",
              "    </tr>\n",
              "    <tr>\n",
              "      <th>2015-05-24 12:00:00</th>\n",
              "      <td>1123.0</td>\n",
              "      <td>915.381418</td>\n",
              "    </tr>\n",
              "    <tr>\n",
              "      <th>2015-05-24 13:00:00</th>\n",
              "      <td>1124.0</td>\n",
              "      <td>923.899751</td>\n",
              "    </tr>\n",
              "  </tbody>\n",
              "</table>\n",
              "</div>"
            ],
            "text/plain": [
              "                     observed   predicted\n",
              "date                                     \n",
              "2015-05-24 11:00:00    1125.8  926.765185\n",
              "2015-05-24 12:00:00    1123.0  915.381418\n",
              "2015-05-24 13:00:00    1124.0  923.899751"
            ]
          },
          "metadata": {
            "tags": []
          },
          "execution_count": 11
        }
      ]
    },
    {
      "cell_type": "markdown",
      "metadata": {
        "id": "G7-mUy4N1v6n",
        "colab_type": "text"
      },
      "source": [
        "Podemos ver que este modelo por sí solo no es un gran ajuste para estos datos, ya que existe una gran diferencia entre lo observado y lo previsto.\n",
        "\n",
        "### Combinando autorregresión con media móvil\n",
        "Como hemos visto en el párrafo anterior, podemos crear un modelo con un componente autorregresivo y un componente de media móvil. Este modelo se llama modelo ARMA y se denota por ARMA (n, q) donde n es el número de períodos de retraso y q es el número de términos de ruido blanco pasados. A continuación se muestra un ejemplo de un modelo ARMA con dos términos de retraso y un término de ruido blanco."
      ]
    },
    {
      "cell_type": "code",
      "metadata": {
        "id": "csLALLF91rj_",
        "colab_type": "code",
        "colab": {}
      },
      "source": [
        "from statsmodels.tsa.arima_model import ARMA\n",
        "\n",
        "# fit model\n",
        "model = ARMA(occupancy.CO2, order=(2, 1))\n",
        "model_fit = model.fit(disp=False)\n",
        "# make prediction\n",
        "predictions = model_fit.predict(len(occupancy.CO2)-3, len(occupancy.CO2)-1)"
      ],
      "execution_count": 0,
      "outputs": []
    },
    {
      "cell_type": "markdown",
      "metadata": {
        "id": "XxE1x8KU15oA",
        "colab_type": "text"
      },
      "source": [
        "Esperamos que nuestras predicciones mejoren:"
      ]
    },
    {
      "cell_type": "code",
      "metadata": {
        "id": "kXJ1LOyK2BIW",
        "colab_type": "code",
        "outputId": "711f88af-c850-4f08-f676-b0d31f4ece84",
        "colab": {
          "base_uri": "https://localhost:8080/",
          "height": 166
        }
      },
      "source": [
        "pd.DataFrame({'observed':occupancy.CO2[-3:], 'predicted':predictions})"
      ],
      "execution_count": 0,
      "outputs": [
        {
          "output_type": "execute_result",
          "data": {
            "text/html": [
              "<div>\n",
              "<style scoped>\n",
              "    .dataframe tbody tr th:only-of-type {\n",
              "        vertical-align: middle;\n",
              "    }\n",
              "\n",
              "    .dataframe tbody tr th {\n",
              "        vertical-align: top;\n",
              "    }\n",
              "\n",
              "    .dataframe thead th {\n",
              "        text-align: right;\n",
              "    }\n",
              "</style>\n",
              "<table border=\"1\" class=\"dataframe\">\n",
              "  <thead>\n",
              "    <tr style=\"text-align: right;\">\n",
              "      <th></th>\n",
              "      <th>observed</th>\n",
              "      <th>predicted</th>\n",
              "    </tr>\n",
              "    <tr>\n",
              "      <th>date</th>\n",
              "      <th></th>\n",
              "      <th></th>\n",
              "    </tr>\n",
              "  </thead>\n",
              "  <tbody>\n",
              "    <tr>\n",
              "      <th>2015-05-24 11:00:00</th>\n",
              "      <td>1125.8</td>\n",
              "      <td>1128.089397</td>\n",
              "    </tr>\n",
              "    <tr>\n",
              "      <th>2015-05-24 12:00:00</th>\n",
              "      <td>1123.0</td>\n",
              "      <td>1124.533941</td>\n",
              "    </tr>\n",
              "    <tr>\n",
              "      <th>2015-05-24 13:00:00</th>\n",
              "      <td>1124.0</td>\n",
              "      <td>1121.625439</td>\n",
              "    </tr>\n",
              "  </tbody>\n",
              "</table>\n",
              "</div>"
            ],
            "text/plain": [
              "                     observed    predicted\n",
              "date                                      \n",
              "2015-05-24 11:00:00    1125.8  1128.089397\n",
              "2015-05-24 12:00:00    1123.0  1124.533941\n",
              "2015-05-24 13:00:00    1124.0  1121.625439"
            ]
          },
          "metadata": {
            "tags": []
          },
          "execution_count": 13
        }
      ]
    },
    {
      "cell_type": "markdown",
      "metadata": {
        "id": "Ce1EvsvQ2Fpp",
        "colab_type": "text"
      },
      "source": [
        "### Conclusión\n",
        "En esta lección nos presentaron una serie de conceptos básicos en el modelado de series de tiempo. Los modelos de series temporales requieren un tratamiento diferente al de los modelos lineales. Aprendimos sobre los diferentes componentes de una serie de tiempo y cómo trazarlos. Aprendimos sobre estacionariedad, caminatas aleatorias y modelos de promedio móvil y autorregresivo. Esta introducción debe proporcionarle las herramientas para evaluar y modelar datos ordenados por tiempo."
      ]
    },
    {
      "cell_type": "markdown",
      "metadata": {
        "id": "hEVlVHfx5Api",
        "colab_type": "text"
      },
      "source": [
        "### Introducción a la inteligencia empresarial\n",
        "\n",
        "### Introducción\n",
        "Business Intelligence es una aplicación de análisis de datos que ayuda a las empresas a tomar decisiones basadas en datos. Usando Business Intelligence, las tecnologías podemos proporcionar información sobre el rendimiento de una empresa en el pasado y el presente, así como hacer predicciones o recomendaciones para el futuro. Una diferencia clave entre Business Intelligence y el análisis de datos es que las ideas deben ser procesables y orientadas a ayudar a una empresa a tomar decisiones.\n",
        "\n",
        "### Conceptos clave\n",
        "### Datos: almacén de datos frente a datos no estructurados\n",
        "Las empresas almacenan grandes cantidades de datos. Algunos por razones de cumplimiento y otros datos específicamente para derivar ideas e informes históricos. Los datos se pueden almacenar de muchas formas, incluidos correos electrónicos, facturas y presentaciones, pero también en forma de tablas estructuradas.\n",
        "\n",
        "### Almacén de datos: OLAP y OLTP\n",
        "Por lo general, las empresas invierten una gran cantidad de recursos en el almacenamiento de datos importantes en bases de datos relacionales. Los almacenes de datos suelen ser un grupo de bases de datos relacionales accesibles mediante SQL. Muchas compañías tienen dos tipos de bases de datos. OLAP (procesamiento analítico en línea) es un almacén de datos que se caracteriza por un volumen relativamente bajo de transacciones. Esta base de datos se usa generalmente para consultas complejas y, por lo tanto, el tiempo que lleva escribir en la base de datos puede ser largo, pero el tiempo de lectura debe ser corto. Por otro lado, OLTP (procesamiento de transacciones en línea) es una base de datos que se utiliza para un gran volumen de transacciones en línea cortas. Este tipo de base de datos se utiliza para el procesamiento rápido de consultas. Cada base de datos tiene ventajas y desventajas. Al usar ambas bases de datos, podemos optimizar el rendimiento tanto para consultas complejas como para un gran volumen de consultas e inserciones simples.\n",
        "\n",
        "### Datos no estructurados: lago de datos\n",
        "En el pasado, la mayoría de los datos utilizados para extraer Business Intelligence se almacenaban en bases de datos relacionales. Sin embargo, hoy en día el almacenamiento se ha vuelto muy barato y las tecnologías para el almacenamiento distribuido han sido el estándar durante más de una década. Por lo tanto, muchas organizaciones consideran que es más rentable almacenar sus datos sin estructurar y procesarlos en el momento de la consulta. Un repositorio que contiene datos estructurados y no estructurados se denomina lago de datos.\n",
        "\n",
        "### Métrica\n",
        "Una métrica es una medida cuantificable que nos proporciona información sobre qué tan bien está haciendo una empresa para lograr sus objetivos comerciales. Dado que las empresas solo pueden mejorar las cosas que miden, es una parte crucial del trabajo de un analista utilizar las métricas más apropiadas. A muchas empresas les gusta usar el término KPI (Indicador clave de rendimiento) de manera intercambiable con las métricas. Un ejemplo de una métrica es la cantidad de dinero gastado por venta o el porcentaje de clientes que compran un producto de todos los clientes que visitan el sitio.\n",
        "\n",
        "### Insights accionables\n",
        "Por lo general, los analistas intentan crear informes que contengan información que pueda producir un aumento en los ingresos. Si bien es interesante conocer ciertos hechos acerca de la empresa y los productos que utilizan datos, tratamos de limitarnos a las recomendaciones que, cuando se toman medidas, impulsarán el resultado final.\n",
        "\n",
        "### Resumen\n",
        "En esta lección aprendimos sobre los conceptos clave de Business Analytics. Aprendimos sobre los diferentes tipos de almacenes de datos, así como las métricas y los KPI. En las siguientes lecciones, usaremos Tableau para producir ideas procesables."
      ]
    },
    {
      "cell_type": "code",
      "metadata": {
        "id": "bVoZj1N65PDl",
        "colab_type": "code",
        "colab": {}
      },
      "source": [
        ""
      ],
      "execution_count": 0,
      "outputs": []
    }
  ]
}